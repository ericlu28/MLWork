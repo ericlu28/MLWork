{
 "cells": [
  {
   "cell_type": "code",
   "execution_count": 1,
   "metadata": {},
   "outputs": [
    {
     "name": "stderr",
     "output_type": "stream",
     "text": [
      "C:\\Users\\erica\\miniconda3\\envs\\tensorflow\\lib\\site-packages\\tensorflow_core\\python\\keras\\datasets\\imdb.py:129: VisibleDeprecationWarning: Creating an ndarray from ragged nested sequences (which is a list-or-tuple of lists-or-tuples-or ndarrays with different lengths or shapes) is deprecated. If you meant to do this, you must specify 'dtype=object' when creating the ndarray\n",
      "  x_train, y_train = np.array(xs[:idx]), np.array(labels[:idx])\n",
      "C:\\Users\\erica\\miniconda3\\envs\\tensorflow\\lib\\site-packages\\tensorflow_core\\python\\keras\\datasets\\imdb.py:130: VisibleDeprecationWarning: Creating an ndarray from ragged nested sequences (which is a list-or-tuple of lists-or-tuples-or ndarrays with different lengths or shapes) is deprecated. If you meant to do this, you must specify 'dtype=object' when creating the ndarray\n",
      "  x_test, y_test = np.array(xs[idx:]), np.array(labels[idx:])\n"
     ]
    }
   ],
   "source": [
    "from tensorflow.keras.datasets import imdb\n",
    "(train_data, train_labels), (test_data, test_labels) = imdb.load_data(num_words=10000)"
   ]
  },
  {
   "cell_type": "code",
   "execution_count": 2,
   "metadata": {},
   "outputs": [],
   "source": [
    "import numpy as np\n",
    "\n",
    "def vectorize_sequences(sequences, dimension=10000):\n",
    "    results = np.zeros((len(sequences), dimension))\n",
    "    for i, sequence in enumerate(sequences):\n",
    "        results[i, sequence] = 1\n",
    "    return results\n",
    "\n",
    "x_train = vectorize_sequences(train_data)\n",
    "x_test = vectorize_sequences(test_data)\n",
    "y_train = np.asarray(train_labels).astype('float32')\n",
    "y_test = np.asarray(test_labels).astype('float32')"
   ]
  },
  {
   "cell_type": "code",
   "execution_count": 3,
   "metadata": {},
   "outputs": [
    {
     "data": {
      "text/plain": [
       "array([0., 1., 1., ..., 0., 0., 0.])"
      ]
     },
     "execution_count": 3,
     "metadata": {},
     "output_type": "execute_result"
    }
   ],
   "source": [
    "x_train[0]"
   ]
  },
  {
   "cell_type": "code",
   "execution_count": 4,
   "metadata": {},
   "outputs": [],
   "source": [
    "from tensorflow.keras import models\n",
    "from tensorflow.keras import layers\n",
    "\n",
    "model = models.Sequential()\n",
    "model.add(layers.Dense(16, activation='relu', input_shape=(10000,)))\n",
    "model.add(layers.Dense(16, activation='relu'))\n",
    "model.add(layers.Dense(1, activation='sigmoid'))\n",
    "\n",
    "model.compile(optimizer='rmsprop', loss='binary_crossentropy', metrics=['accuracy'])"
   ]
  },
  {
   "cell_type": "code",
   "execution_count": 5,
   "metadata": {},
   "outputs": [],
   "source": [
    "x_val = x_train[:10000]\n",
    "partial_x_train = x_train[10000:]\n",
    "y_val = y_train[:10000]\n",
    "partial_y_train = y_train[10000:]"
   ]
  },
  {
   "cell_type": "code",
   "execution_count": 6,
   "metadata": {},
   "outputs": [
    {
     "name": "stdout",
     "output_type": "stream",
     "text": [
      "Train on 15000 samples, validate on 10000 samples\n",
      "Epoch 1/20\n",
      "15000/15000 [==============================] - 3s 167us/sample - loss: 0.5540 - acc: 0.7805 - val_loss: 0.4411 - val_acc: 0.8616\n",
      "Epoch 2/20\n",
      "15000/15000 [==============================] - 2s 113us/sample - loss: 0.3612 - acc: 0.8967 - val_loss: 0.3404 - val_acc: 0.8838\n",
      "Epoch 3/20\n",
      "15000/15000 [==============================] - 2s 110us/sample - loss: 0.2653 - acc: 0.9202 - val_loss: 0.2928 - val_acc: 0.8913\n",
      "Epoch 4/20\n",
      "15000/15000 [==============================] - 2s 110us/sample - loss: 0.2095 - acc: 0.9335 - val_loss: 0.2826 - val_acc: 0.8883\n",
      "Epoch 5/20\n",
      "15000/15000 [==============================] - 2s 111us/sample - loss: 0.1682 - acc: 0.9488 - val_loss: 0.3056 - val_acc: 0.8776\n",
      "Epoch 6/20\n",
      "15000/15000 [==============================] - 2s 110us/sample - loss: 0.1417 - acc: 0.9559 - val_loss: 0.2813 - val_acc: 0.8881\n",
      "Epoch 7/20\n",
      "15000/15000 [==============================] - 2s 110us/sample - loss: 0.1185 - acc: 0.9664 - val_loss: 0.2939 - val_acc: 0.8875\n",
      "Epoch 8/20\n",
      "15000/15000 [==============================] - 2s 110us/sample - loss: 0.0974 - acc: 0.9732 - val_loss: 0.2996 - val_acc: 0.8854\n",
      "Epoch 9/20\n",
      "15000/15000 [==============================] - 2s 110us/sample - loss: 0.0832 - acc: 0.9783 - val_loss: 0.3183 - val_acc: 0.8838\n",
      "Epoch 10/20\n",
      "15000/15000 [==============================] - 2s 110us/sample - loss: 0.0694 - acc: 0.9819 - val_loss: 0.3493 - val_acc: 0.8774\n",
      "Epoch 11/20\n",
      "15000/15000 [==============================] - 2s 110us/sample - loss: 0.0563 - acc: 0.9867 - val_loss: 0.3702 - val_acc: 0.8736\n",
      "Epoch 12/20\n",
      "15000/15000 [==============================] - 2s 110us/sample - loss: 0.0452 - acc: 0.9907 - val_loss: 0.3882 - val_acc: 0.8802\n",
      "Epoch 13/20\n",
      "15000/15000 [==============================] - 2s 111us/sample - loss: 0.0375 - acc: 0.9924 - val_loss: 0.4299 - val_acc: 0.8682\n",
      "Epoch 14/20\n",
      "15000/15000 [==============================] - 2s 110us/sample - loss: 0.0292 - acc: 0.9950 - val_loss: 0.4341 - val_acc: 0.8736\n",
      "Epoch 15/20\n",
      "15000/15000 [==============================] - 2s 111us/sample - loss: 0.0227 - acc: 0.9969 - val_loss: 0.4694 - val_acc: 0.8691\n",
      "Epoch 16/20\n",
      "15000/15000 [==============================] - 2s 111us/sample - loss: 0.0177 - acc: 0.9980 - val_loss: 0.5015 - val_acc: 0.8732\n",
      "Epoch 17/20\n",
      "15000/15000 [==============================] - 2s 110us/sample - loss: 0.0138 - acc: 0.9987 - val_loss: 0.5345 - val_acc: 0.8677\n",
      "Epoch 18/20\n",
      "15000/15000 [==============================] - 2s 110us/sample - loss: 0.0109 - acc: 0.9990 - val_loss: 0.6361 - val_acc: 0.8667\n",
      "Epoch 19/20\n",
      "15000/15000 [==============================] - 2s 111us/sample - loss: 0.0069 - acc: 0.9997 - val_loss: 0.5960 - val_acc: 0.8701\n",
      "Epoch 20/20\n",
      "15000/15000 [==============================] - 2s 108us/sample - loss: 0.0059 - acc: 0.9997 - val_loss: 0.6571 - val_acc: 0.8687\n"
     ]
    }
   ],
   "source": [
    "model.compile(optimizer='rmsprop', loss='binary_crossentropy', metrics=['acc'])\n",
    "history = model.fit(partial_x_train, partial_y_train, epochs=20, batch_size=512, validation_data=(x_val, y_val))"
   ]
  },
  {
   "cell_type": "code",
   "execution_count": 7,
   "metadata": {},
   "outputs": [
    {
     "data": {
      "text/plain": [
       "dict_keys(['loss', 'acc', 'val_loss', 'val_acc'])"
      ]
     },
     "execution_count": 7,
     "metadata": {},
     "output_type": "execute_result"
    }
   ],
   "source": [
    "history_dict = history.history\n",
    "history_dict.keys()"
   ]
  },
  {
   "cell_type": "code",
   "execution_count": 9,
   "metadata": {},
   "outputs": [
    {
     "data": {
      "image/png": "[encoded data removed]",
      "text/plain": [
       "<Figure size 432x288 with 1 Axes>"
      ]
     },
     "metadata": {
      "needs_background": "light"
     },
     "output_type": "display_data"
    }
   ],
   "source": [
    "import matplotlib.pyplot as plt\n",
    "\n",
    "acc = history.history['acc']\n",
    "val_acc = history.history['val_acc']\n",
    "loss = history_dict['loss']\n",
    "val_loss = history_dict['val_loss']\n",
    "\n",
    "epochs = range(1, len(acc) + 1)\n",
    "\n",
    "plt.plot(epochs, loss, 'bo', label='Training loss')\n",
    "plt.plot(epochs, val_loss, 'b', label='Validation loss')\n",
    "plt.title('Training and validation loss')\n",
    "plt.xlabel('Epochs')\n",
    "plt.ylabel('Loss')\n",
    "plt.legend()\n",
    "\n",
    "plt.show()"
   ]
  },
  {
   "cell_type": "code",
   "execution_count": 10,
   "metadata": {},
   "outputs": [
    {
     "data": {
      "image/png": "[encoded data removed]",
      "text/plain": [
       "<Figure size 432x288 with 1 Axes>"
      ]
     },
     "metadata": {
      "needs_background": "light"
     },
     "output_type": "display_data"
    }
   ],
   "source": [
    "plt.clf()\n",
    "acc = history_dict['acc']\n",
    "val_acc = history_dict['val_acc']\n",
    "\n",
    "plt.plot(epochs, acc, 'bo', label='Training acc')\n",
    "plt.plot(epochs, val_acc, 'b', label='Validation acc')\n",
    "plt.title('Training and validation accuracy')\n",
    "plt.xlabel('Epochs')\n",
    "plt.ylabel('Loss')\n",
    "plt.legend()\n",
    "\n",
    "plt.show()"
   ]
  },
  {
   "cell_type": "code",
   "execution_count": 14,
   "metadata": {},
   "outputs": [
    {
     "name": "stdout",
     "output_type": "stream",
     "text": [
      "Train on 25000 samples\n",
      "Epoch 1/4\n",
      "25000/25000 [==============================] - 2s 87us/sample - loss: 0.4442 - accuracy: 0.8326\n",
      "Epoch 2/4\n",
      "25000/25000 [==============================] - 2s 67us/sample - loss: 0.2581 - accuracy: 0.9094\n",
      "Epoch 3/4\n",
      "25000/25000 [==============================] - 2s 68us/sample - loss: 0.2000 - accuracy: 0.9277s - loss: 0.2056 - \n",
      "Epoch 4/4\n",
      "25000/25000 [==============================] - 2s 66us/sample - loss: 0.1697 - accuracy: 0.9400\n",
      "25000/25000 [==============================] - 3s 133us/sample - loss: 0.3116 - accuracy: 0.8767 - loss: 0.3125 - accuracy: 0.\n"
     ]
    }
   ],
   "source": [
    "model = models.Sequential()\n",
    "model.add(layers.Dense(16, activation='relu', input_shape=(10000,)))\n",
    "model.add(layers.Dense(16, activation= 'relu'))\n",
    "model.add(layers.Dense(1, activation='sigmoid'))\n",
    "\n",
    "model.compile(optimizer='rmsprop', loss='binary_crossentropy', metrics=['accuracy'])\n",
    "\n",
    "model.fit(x_train, y_train, epochs=4, batch_size=512)\n",
    "results=model.evaluate(x_test, y_test)"
   ]
  },
  {
   "cell_type": "code",
   "execution_count": 15,
   "metadata": {},
   "outputs": [
    {
     "data": {
      "text/plain": [
       "[0.311563558883667, 0.87668]"
      ]
     },
     "execution_count": 15,
     "metadata": {},
     "output_type": "execute_result"
    }
   ],
   "source": [
    "results"
   ]
  },
  {
   "cell_type": "code",
   "execution_count": 16,
   "metadata": {},
   "outputs": [
    {
     "data": {
      "text/plain": [
       "array([[0.13797623],\n",
       "       [0.99966335],\n",
       "       [0.5793792 ],\n",
       "       ...,\n",
       "       [0.08348759],\n",
       "       [0.04616612],\n",
       "       [0.50473225]], dtype=float32)"
      ]
     },
     "execution_count": 16,
     "metadata": {},
     "output_type": "execute_result"
    }
   ],
   "source": [
    "model.predict(x_test)"
   ]
  },
  {
   "cell_type": "code",
   "execution_count": null,
   "metadata": {},
   "outputs": [],
   "source": []
  }
 ],
 "metadata": {
  "kernelspec": {
   "display_name": "Python 3.7 (tensorflow)",
   "language": "python",
   "name": "tensorflow"
  },
  "language_info": {
   "codemirror_mode": {
    "name": "ipython",
    "version": 3
   },
   "file_extension": ".py",
   "mimetype": "text/x-python",
   "name": "python",
   "nbconvert_exporter": "python",
   "pygments_lexer": "ipython3",
   "version": "3.7.7"
  }
 },
 "nbformat": 4,
 "nbformat_minor": 4
}
